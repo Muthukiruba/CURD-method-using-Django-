{
 "cells": [
  {
   "cell_type": "code",
   "execution_count": 8,
   "id": "fd9e4573",
   "metadata": {},
   "outputs": [],
   "source": [
    "#Import Necessary Packages\n",
    "\n",
    "import numpy as np  \n",
    "import matplotlib.pyplot as plt\n",
    "import pandas as pd\n",
    "from sklearn.model_selection import train_test_split\n",
    "import os\n",
    "from PIL import Image\n",
    "from skimage.transform import resize\n",
    "import pickle"
   ]
  },
  {
   "cell_type": "code",
   "execution_count": 2,
   "id": "8215bd3f",
   "metadata": {},
   "outputs": [
    {
     "data": {
      "text/html": [
       "<div>\n",
       "<style scoped>\n",
       "    .dataframe tbody tr th:only-of-type {\n",
       "        vertical-align: middle;\n",
       "    }\n",
       "\n",
       "    .dataframe tbody tr th {\n",
       "        vertical-align: top;\n",
       "    }\n",
       "\n",
       "    .dataframe thead th {\n",
       "        text-align: right;\n",
       "    }\n",
       "</style>\n",
       "<table border=\"1\" class=\"dataframe\">\n",
       "  <thead>\n",
       "    <tr style=\"text-align: right;\">\n",
       "      <th></th>\n",
       "      <th>X0</th>\n",
       "      <th>X1</th>\n",
       "      <th>Class</th>\n",
       "    </tr>\n",
       "  </thead>\n",
       "  <tbody>\n",
       "    <tr>\n",
       "      <th>0</th>\n",
       "      <td>2.071069</td>\n",
       "      <td>0.411529</td>\n",
       "      <td>1</td>\n",
       "    </tr>\n",
       "    <tr>\n",
       "      <th>1</th>\n",
       "      <td>-0.335398</td>\n",
       "      <td>1.032266</td>\n",
       "      <td>0</td>\n",
       "    </tr>\n",
       "    <tr>\n",
       "      <th>2</th>\n",
       "      <td>1.256631</td>\n",
       "      <td>-0.363937</td>\n",
       "      <td>1</td>\n",
       "    </tr>\n",
       "    <tr>\n",
       "      <th>3</th>\n",
       "      <td>1.269361</td>\n",
       "      <td>-0.379086</td>\n",
       "      <td>1</td>\n",
       "    </tr>\n",
       "    <tr>\n",
       "      <th>4</th>\n",
       "      <td>-0.839940</td>\n",
       "      <td>0.203669</td>\n",
       "      <td>0</td>\n",
       "    </tr>\n",
       "    <tr>\n",
       "      <th>...</th>\n",
       "      <td>...</td>\n",
       "      <td>...</td>\n",
       "      <td>...</td>\n",
       "    </tr>\n",
       "    <tr>\n",
       "      <th>395</th>\n",
       "      <td>0.130891</td>\n",
       "      <td>0.022948</td>\n",
       "      <td>1</td>\n",
       "    </tr>\n",
       "    <tr>\n",
       "      <th>396</th>\n",
       "      <td>0.279114</td>\n",
       "      <td>0.862536</td>\n",
       "      <td>0</td>\n",
       "    </tr>\n",
       "    <tr>\n",
       "      <th>397</th>\n",
       "      <td>1.966930</td>\n",
       "      <td>0.433234</td>\n",
       "      <td>1</td>\n",
       "    </tr>\n",
       "    <tr>\n",
       "      <th>398</th>\n",
       "      <td>0.308508</td>\n",
       "      <td>-0.155109</td>\n",
       "      <td>1</td>\n",
       "    </tr>\n",
       "    <tr>\n",
       "      <th>399</th>\n",
       "      <td>1.068401</td>\n",
       "      <td>0.707697</td>\n",
       "      <td>0</td>\n",
       "    </tr>\n",
       "  </tbody>\n",
       "</table>\n",
       "<p>400 rows × 3 columns</p>\n",
       "</div>"
      ],
      "text/plain": [
       "           X0        X1  Class\n",
       "0    2.071069  0.411529      1\n",
       "1   -0.335398  1.032266      0\n",
       "2    1.256631 -0.363937      1\n",
       "3    1.269361 -0.379086      1\n",
       "4   -0.839940  0.203669      0\n",
       "..        ...       ...    ...\n",
       "395  0.130891  0.022948      1\n",
       "396  0.279114  0.862536      0\n",
       "397  1.966930  0.433234      1\n",
       "398  0.308508 -0.155109      1\n",
       "399  1.068401  0.707697      0\n",
       "\n",
       "[400 rows x 3 columns]"
      ]
     },
     "execution_count": 2,
     "metadata": {},
     "output_type": "execute_result"
    }
   ],
   "source": [
    "#import the dataset of moons400.csv\n",
    "read = 'C:/Users/Admin/Downloads/Assignment 1 Required Materials (1)/moons400.csv'\n",
    "df = pd.read_csv(read ,  Header = 0)\n",
    "df"
   ]
  },
  {
   "cell_type": "code",
   "execution_count": 3,
   "id": "32cf349b",
   "metadata": {},
   "outputs": [
    {
     "data": {
      "text/html": [
       "<div>\n",
       "<style scoped>\n",
       "    .dataframe tbody tr th:only-of-type {\n",
       "        vertical-align: middle;\n",
       "    }\n",
       "\n",
       "    .dataframe tbody tr th {\n",
       "        vertical-align: top;\n",
       "    }\n",
       "\n",
       "    .dataframe thead th {\n",
       "        text-align: right;\n",
       "    }\n",
       "</style>\n",
       "<table border=\"1\" class=\"dataframe\">\n",
       "  <thead>\n",
       "    <tr style=\"text-align: right;\">\n",
       "      <th></th>\n",
       "      <th>X0</th>\n",
       "      <th>X1</th>\n",
       "      <th>Class</th>\n",
       "    </tr>\n",
       "  </thead>\n",
       "  <tbody>\n",
       "    <tr>\n",
       "      <th>count</th>\n",
       "      <td>400.000000</td>\n",
       "      <td>400.000000</td>\n",
       "      <td>400.000000</td>\n",
       "    </tr>\n",
       "    <tr>\n",
       "      <th>mean</th>\n",
       "      <td>0.496913</td>\n",
       "      <td>0.260841</td>\n",
       "      <td>0.500000</td>\n",
       "    </tr>\n",
       "    <tr>\n",
       "      <th>std</th>\n",
       "      <td>0.870526</td>\n",
       "      <td>0.504415</td>\n",
       "      <td>0.500626</td>\n",
       "    </tr>\n",
       "    <tr>\n",
       "      <th>min</th>\n",
       "      <td>-1.219403</td>\n",
       "      <td>-0.797520</td>\n",
       "      <td>0.000000</td>\n",
       "    </tr>\n",
       "    <tr>\n",
       "      <th>25%</th>\n",
       "      <td>-0.050724</td>\n",
       "      <td>-0.152967</td>\n",
       "      <td>0.000000</td>\n",
       "    </tr>\n",
       "    <tr>\n",
       "      <th>50%</th>\n",
       "      <td>0.505190</td>\n",
       "      <td>0.285722</td>\n",
       "      <td>0.500000</td>\n",
       "    </tr>\n",
       "    <tr>\n",
       "      <th>75%</th>\n",
       "      <td>1.080733</td>\n",
       "      <td>0.704522</td>\n",
       "      <td>1.000000</td>\n",
       "    </tr>\n",
       "    <tr>\n",
       "      <th>max</th>\n",
       "      <td>2.178136</td>\n",
       "      <td>1.474150</td>\n",
       "      <td>1.000000</td>\n",
       "    </tr>\n",
       "  </tbody>\n",
       "</table>\n",
       "</div>"
      ],
      "text/plain": [
       "               X0          X1       Class\n",
       "count  400.000000  400.000000  400.000000\n",
       "mean     0.496913    0.260841    0.500000\n",
       "std      0.870526    0.504415    0.500626\n",
       "min     -1.219403   -0.797520    0.000000\n",
       "25%     -0.050724   -0.152967    0.000000\n",
       "50%      0.505190    0.285722    0.500000\n",
       "75%      1.080733    0.704522    1.000000\n",
       "max      2.178136    1.474150    1.000000"
      ]
     },
     "execution_count": 3,
     "metadata": {},
     "output_type": "execute_result"
    }
   ],
   "source": [
    "df.describe()"
   ]
  },
  {
   "cell_type": "code",
   "execution_count": 4,
   "id": "49b27d72",
   "metadata": {},
   "outputs": [],
   "source": [
    "trainingEg = pd.DataFrame(df[1:250])\n",
    "# Extract labels\n",
    "y = trainingEg['Class']\n",
    "# Separate dataframe containing features\n",
    "trainingSet=pd.DataFrame()\n",
    "trainingSet['X1'] = trainingEg['X0']\n",
    "trainingSet['X2'] = trainingEg['X1']\n",
    "# trainingSet['X3'] = trainingEg['X2']\n",
    "#trainingSet"
   ]
  },
  {
   "cell_type": "code",
   "execution_count": 5,
   "id": "c8cf908f",
   "metadata": {},
   "outputs": [],
   "source": [
    "#learning rate\n",
    "alpha = 0.01 "
   ]
  },
  {
   "cell_type": "code",
   "execution_count": 6,
   "id": "c6cffd62",
   "metadata": {},
   "outputs": [
    {
     "data": {
      "text/html": [
       "<div>\n",
       "<style scoped>\n",
       "    .dataframe tbody tr th:only-of-type {\n",
       "        vertical-align: middle;\n",
       "    }\n",
       "\n",
       "    .dataframe tbody tr th {\n",
       "        vertical-align: top;\n",
       "    }\n",
       "\n",
       "    .dataframe thead th {\n",
       "        text-align: right;\n",
       "    }\n",
       "</style>\n",
       "<table border=\"1\" class=\"dataframe\">\n",
       "  <thead>\n",
       "    <tr style=\"text-align: right;\">\n",
       "      <th></th>\n",
       "      <th>X0</th>\n",
       "      <th>X1</th>\n",
       "      <th>Class</th>\n",
       "    </tr>\n",
       "  </thead>\n",
       "  <tbody>\n",
       "    <tr>\n",
       "      <th>count</th>\n",
       "      <td>400.000000</td>\n",
       "      <td>400.000000</td>\n",
       "      <td>400.000000</td>\n",
       "    </tr>\n",
       "    <tr>\n",
       "      <th>mean</th>\n",
       "      <td>0.496913</td>\n",
       "      <td>0.260841</td>\n",
       "      <td>0.500000</td>\n",
       "    </tr>\n",
       "    <tr>\n",
       "      <th>std</th>\n",
       "      <td>0.870526</td>\n",
       "      <td>0.504415</td>\n",
       "      <td>0.500626</td>\n",
       "    </tr>\n",
       "    <tr>\n",
       "      <th>min</th>\n",
       "      <td>-1.219403</td>\n",
       "      <td>-0.797520</td>\n",
       "      <td>0.000000</td>\n",
       "    </tr>\n",
       "    <tr>\n",
       "      <th>25%</th>\n",
       "      <td>-0.050724</td>\n",
       "      <td>-0.152967</td>\n",
       "      <td>0.000000</td>\n",
       "    </tr>\n",
       "    <tr>\n",
       "      <th>50%</th>\n",
       "      <td>0.505190</td>\n",
       "      <td>0.285722</td>\n",
       "      <td>0.500000</td>\n",
       "    </tr>\n",
       "    <tr>\n",
       "      <th>75%</th>\n",
       "      <td>1.080733</td>\n",
       "      <td>0.704522</td>\n",
       "      <td>1.000000</td>\n",
       "    </tr>\n",
       "    <tr>\n",
       "      <th>max</th>\n",
       "      <td>2.178136</td>\n",
       "      <td>1.474150</td>\n",
       "      <td>1.000000</td>\n",
       "    </tr>\n",
       "  </tbody>\n",
       "</table>\n",
       "</div>"
      ],
      "text/plain": [
       "               X0          X1       Class\n",
       "count  400.000000  400.000000  400.000000\n",
       "mean     0.496913    0.260841    0.500000\n",
       "std      0.870526    0.504415    0.500626\n",
       "min     -1.219403   -0.797520    0.000000\n",
       "25%     -0.050724   -0.152967    0.000000\n",
       "50%      0.505190    0.285722    0.500000\n",
       "75%      1.080733    0.704522    1.000000\n",
       "max      2.178136    1.474150    1.000000"
      ]
     },
     "execution_count": 6,
     "metadata": {},
     "output_type": "execute_result"
    }
   ],
   "source": [
    "df.describe()"
   ]
  },
  {
   "cell_type": "code",
   "execution_count": 7,
   "id": "3c6cca22",
   "metadata": {},
   "outputs": [
    {
     "name": "stdout",
     "output_type": "stream",
     "text": [
      "<class 'pandas.core.frame.DataFrame'>\n",
      "RangeIndex: 400 entries, 0 to 399\n",
      "Data columns (total 3 columns):\n",
      " #   Column  Non-Null Count  Dtype  \n",
      "---  ------  --------------  -----  \n",
      " 0   X0      400 non-null    float64\n",
      " 1   X1      400 non-null    float64\n",
      " 2   Class   400 non-null    int64  \n",
      "dtypes: float64(2), int64(1)\n",
      "memory usage: 9.5 KB\n"
     ]
    }
   ],
   "source": [
    "df.info()"
   ]
  },
  {
   "cell_type": "code",
   "execution_count": 8,
   "id": "f027bea2",
   "metadata": {},
   "outputs": [],
   "source": [
    "# The y values are those labelled 'Class': extract their values\n",
    "y = df['Class'].values\n",
    "\n",
    "# The x values are all other columns\n",
    "del df['Class']   # drop the 'Class' column from the dataframe\n",
    "X = df.values     # convert the remaining columns to a numpy array"
   ]
  },
  {
   "cell_type": "code",
   "execution_count": 9,
   "id": "5a336a30",
   "metadata": {},
   "outputs": [
    {
     "name": "stdout",
     "output_type": "stream",
     "text": [
      "len(X): 400\n",
      "len(X[0]): 2\n",
      "len(X[:,0]): 400\n",
      "X: nsamples = 400 , nattribs = 2\n",
      "len(y) 400\n",
      "np.shape(y): (400,)\n",
      "np.shape(yt): (400, 1)\n",
      "y transpose: nsamples = 400 , nattribs = 1\n"
     ]
    }
   ],
   "source": [
    "# Some examples of working with the data, to look at rows/columns\n",
    "print (\"len(X):\", len(X))            # outer array: one per sample\n",
    "print (\"len(X[0]):\", len(X[0]))      # each inner array is the attributes of one sample\n",
    "print (\"len(X[:,0]):\", len(X[:,0]))  # select column 0 from array\n",
    "\n",
    "# np.shape returns all dimensions of the array\n",
    "(nsamples, nattribs) = np.shape(X)\n",
    "print (\"X: nsamples =\", nsamples, \", nattribs =\", nattribs)\n",
    "\n",
    "# Now example the y vector (1D array)\n",
    "print (\"len(y)\", len(y))\n",
    "print (\"np.shape(y):\", np.shape(y))\n",
    "\n",
    "# You can transpose the y data using 'reshape'\n",
    "yt = np.reshape(y, (len(y),1))  \n",
    "print (\"np.shape(yt):\", np.shape(yt))\n",
    "(nsamples, nattribs) = np.shape(yt)\n",
    "print (\"y transpose: nsamples =\", nsamples, \", nattribs =\", nattribs)"
   ]
  },
  {
   "cell_type": "code",
   "execution_count": 10,
   "id": "0e304795",
   "metadata": {},
   "outputs": [
    {
     "data": {
      "text/plain": [
       "<matplotlib.collections.PathCollection at 0x2640d9f1fa0>"
      ]
     },
     "execution_count": 10,
     "metadata": {},
     "output_type": "execute_result"
    },
    {
     "data": {
      "image/png": "[encoded data removed]",
      "text/plain": [
       "<Figure size 432x288 with 1 Axes>"
      ]
     },
     "metadata": {
      "needs_background": "light"
     },
     "output_type": "display_data"
    }
   ],
   "source": [
    "# plot X[0] vs X[1] and colour points according to the class, y\n",
    "plt.scatter(X[:,0], X[:,1], c=y)  "
   ]
  },
  {
   "cell_type": "code",
   "execution_count": 11,
   "id": "dd3a629d",
   "metadata": {},
   "outputs": [
    {
     "data": {
      "text/plain": [
       "Text(0, 0.5, 'X1')"
      ]
     },
     "execution_count": 11,
     "metadata": {},
     "output_type": "execute_result"
    },
    {
     "data": {
      "image/png": "[encoded data removed]",
      "text/plain": [
       "<Figure size 1080x720 with 2 Axes>"
      ]
     },
     "metadata": {
      "needs_background": "light"
     },
     "output_type": "display_data"
    }
   ],
   "source": [
    "# model = neuralNet_model(2,3,1)\n",
    "\n",
    "# model\n",
    "# draw boxplots to visualize outliers\n",
    "\n",
    "\n",
    "plt.figure(figsize=(15,10))\n",
    "\n",
    "plt.subplot(2, 2, 1)\n",
    "fig = df.boxplot(column='X0')\n",
    "fig.set_title('')\n",
    "fig.set_ylabel('X0')\n",
    "\n",
    "\n",
    "plt.subplot(2, 2, 2)\n",
    "fig = df.boxplot(column='X1')\n",
    "fig.set_title('')\n",
    "fig.set_ylabel('X1')\n",
    "\n"
   ]
  },
  {
   "cell_type": "code",
   "execution_count": 12,
   "id": "e721c3ff",
   "metadata": {},
   "outputs": [],
   "source": [
    "\n",
    "X_train, X_test, y_train, y_test = train_test_split(X, y, test_size=0.2, random_state=1234)"
   ]
  },
  {
   "cell_type": "code",
   "execution_count": 13,
   "id": "890852b6",
   "metadata": {},
   "outputs": [],
   "source": [
    "class logisticRegression:\n",
    "\n",
    "  def __init__(self,lr=0.001,n_iters=1000):\n",
    "    self.lr = lr\n",
    "    self.n_iters = n_iters\n",
    "    self.weights = None\n",
    "    self.bias = None\n",
    "\n",
    "  def fit(self,X,y):\n",
    "    #init parameters\n",
    "    n_samples, n_features = X.shape\n",
    "    self.weights = np.zeros(n_features)\n",
    "    self.bias = 0\n",
    "  def fit(self,X,y):\n",
    "    #init parameters\n",
    "    n_samples, n_features = X.shape\n",
    "    self.weights = np.zeros(n_features)\n",
    "    self.bias = 0\n",
    "\n",
    "    #gradient descent\n",
    "    for _ in range(self.n_iters):\n",
    "      linear_model = np.dot(X,self.weights) + self.bias\n",
    "      y_predicted = self._sigmoid(linear_model)\n",
    "\n",
    "  def predict(self,X):\n",
    "    linear_model = np.dot(X,self.weights) + self.bias\n",
    "    y_predicted = self._sigmoid(linear_model)\n",
    "    y_predicted_cls = [1 if i>0.5 else 0 for i in y_predicted]\n",
    "    return y_predicted_cls\n",
    "  def _sigmoid(self,x):\n",
    "    return(1/(1+np.exp(-x)))\n"
   ]
  },
  {
   "cell_type": "code",
   "execution_count": 14,
   "id": "5d582693",
   "metadata": {},
   "outputs": [],
   "source": [
    "def accuracy(y_true,y_pred):\n",
    "  accuracy = np.sum(y_true == y_pred)/len(y_true)*200\n",
    "  return accuracy\n",
    "\n",
    "# print(accuracy)"
   ]
  },
  {
   "cell_type": "code",
   "execution_count": 15,
   "id": "5a26eecc",
   "metadata": {},
   "outputs": [],
   "source": [
    "regressor = logisticRegression()\n",
    "regressor.fit(X_train,y_train)"
   ]
  },
  {
   "cell_type": "code",
   "execution_count": 16,
   "id": "246dee88",
   "metadata": {},
   "outputs": [
    {
     "name": "stdout",
     "output_type": "stream",
     "text": [
      "Accuracy of LogisticRegression:  92.5\n"
     ]
    }
   ],
   "source": [
    "predict = regressor.predict(X_test)\n",
    "\n",
    "print(\"Accuracy of LogisticRegression: \",accuracy(y_test, predict))"
   ]
  },
  {
   "cell_type": "code",
   "execution_count": 17,
   "id": "4077ce25",
   "metadata": {},
   "outputs": [],
   "source": [
    "# Read Input data from csv file\n",
    "def make_moons(file_name):\n",
    "    # Import dataset using pandas\n",
    "    df = pd.read_csv(file_name)\n",
    "\n",
    "    # The y values are those labelled 'Class': extract their values\n",
    "    y = df['Class'].values\n",
    "\n",
    "    # The x values are all other columns\n",
    "    del df['Class']   # drop the 'Class' column from the dataframe\n",
    "    X = df.values     # convert the remaining columns to a numpy array\n",
    "    return X, y"
   ]
  },
  {
   "cell_type": "code",
   "execution_count": 18,
   "id": "4f64ec0c",
   "metadata": {},
   "outputs": [],
   "source": [
    "# Read the Blobs dataset\n",
    "X, y = make_moons(\"C:/Users/Admin/Downloads/Assignment 1 Required Materials (1)/moons400.csv\")"
   ]
  },
  {
   "cell_type": "code",
   "execution_count": 19,
   "id": "2706b22d",
   "metadata": {},
   "outputs": [],
   "source": [
    "# plt.scatter(X[:, 0], X[:, 1], s=10, c=y)"
   ]
  },
  {
   "cell_type": "code",
   "execution_count": 20,
   "id": "191ffcba",
   "metadata": {},
   "outputs": [
    {
     "data": {
      "text/plain": [
       "(0.0, 1.0)"
      ]
     },
     "execution_count": 20,
     "metadata": {},
     "output_type": "execute_result"
    }
   ],
   "source": [
    "X -= X.min()\n",
    "X /= X.max()\n",
    "X.min(), X.max()"
   ]
  },
  {
   "cell_type": "code",
   "execution_count": 21,
   "id": "e9d57dbe",
   "metadata": {},
   "outputs": [
    {
     "data": {
      "text/plain": [
       "array([0, 1], dtype=int64)"
      ]
     },
     "execution_count": 21,
     "metadata": {},
     "output_type": "execute_result"
    }
   ],
   "source": [
    "np.unique(y)"
   ]
  },
  {
   "cell_type": "code",
   "execution_count": 22,
   "id": "bad03398",
   "metadata": {},
   "outputs": [
    {
     "data": {
      "text/plain": [
       "((400, 2), (400,))"
      ]
     },
     "execution_count": 22,
     "metadata": {},
     "output_type": "execute_result"
    }
   ],
   "source": [
    "X.shape, y.shape"
   ]
  },
  {
   "cell_type": "code",
   "execution_count": 23,
   "id": "0755ee48",
   "metadata": {},
   "outputs": [],
   "source": [
    "X = X.T\n",
    "\n",
    "y = y.reshape(1, -1)"
   ]
  },
  {
   "cell_type": "code",
   "execution_count": 24,
   "id": "9d5d2882",
   "metadata": {},
   "outputs": [
    {
     "data": {
      "text/plain": [
       "((2, 400), (1, 400))"
      ]
     },
     "execution_count": 24,
     "metadata": {},
     "output_type": "execute_result"
    }
   ],
   "source": [
    "X.shape, y.shape"
   ]
  },
  {
   "cell_type": "code",
   "execution_count": 25,
   "id": "1adc2816",
   "metadata": {},
   "outputs": [],
   "source": [
    "import math\n",
    "\n",
    "def sigmoid(x):\n",
    "    return 1 / (1 + math.e ** -x)"
   ]
  },
  {
   "cell_type": "code",
   "execution_count": 26,
   "id": "686089dc",
   "metadata": {},
   "outputs": [],
   "source": [
    "# Construct a Shallow Neural Network with a single hidden layer.\n",
    "class ShallowNN:\n",
    "    \n",
    "    # Initialize the learning rate alpha, the number of iterations, and the threshold with this function\n",
    "    def __init__(self, alpha = 0.01, iterations = 1000, threshold = 1e-6): \n",
    "        self.alpha = alpha\n",
    "        self.iterations = iterations\n",
    "        self.threshold = threshold\n",
    "    \n",
    "    # Set the starting weights and bias to a set of valid values\n",
    "    def Initialise_nn(self, features_x, hidden_nodes):\n",
    "        W1 = np.random.normal(0, 0.01, size = (features_x, hidden_nodes))# Initialize the random values to the weights for nodes of an hidden layer\n",
    "        # Initialize bias = 0 for nodes is an hidden layer\n",
    "        b1 = np.zeros((hidden_nodes, 1))\n",
    "        # Initialize the random values to the weights for the node in output layer\n",
    "        W2 = np.random.normal(0, 0.01, size = (1, hidden_nodes))\n",
    "        # Initialize bias = 0 for the node is an output layer\n",
    "        b2 = 0\n",
    "        return W1, b1, W2, b2\n",
    "\n",
    "    # Activation function to find sigmoid values of input\n",
    "    def Sigmoid(self, z): \n",
    "        z = np.array(z,dtype=float)\n",
    "        self.err_status = np.geterr()\n",
    "        np.seterr(over = 'ignore')\n",
    "        return 1 / (1 + np.exp(-z))\n"
   ]
  },
  {
   "cell_type": "code",
   "execution_count": 27,
   "id": "d6e11af4",
   "metadata": {},
   "outputs": [
    {
     "name": "stdout",
     "output_type": "stream",
     "text": [
      "Epoch of NN 0 is 0.23750\n",
      "Epoch of NN 500 is 0.04288\n",
      "Epoch of NN 1000 is 0.04280\n",
      "Epoch of NN 1500 is 0.04276\n",
      "Epoch of NN 2000 is 0.04276\n",
      "Epoch of NN 2500 is 0.04278\n",
      "Epoch of NN 3000 is 0.04287\n",
      "Epoch of NN 3500 is 0.04251\n",
      "Epoch of NN 4000 is 0.03266\n",
      "Epoch of NN 4500 is 0.02521\n",
      "Epoch of NN 5000 is 0.03072\n",
      "Epoch of NN 5500 is 0.01795\n",
      "Epoch of NN 6000 is 0.03383\n",
      "Epoch of NN 6500 is 0.01456\n",
      "Epoch of NN 7000 is 0.02225\n",
      "Epoch of NN 7500 is 0.01293\n",
      "Epoch of NN 8000 is 0.01245\n",
      "Epoch of NN 8500 is 0.01215\n",
      "Epoch of NN 9000 is 0.01222\n",
      "Epoch of NN 9500 is 0.01129\n"
     ]
    }
   ],
   "source": [
    "# defining the model architecture\n",
    "inputLayer_neurons = X.shape[0]  # number of features in data set\n",
    "hiddenLayer_neurons = 10  # number of hidden layers neurons\n",
    "outputLayer_neurons = 1  # number of neurons at output layer\n",
    "\n",
    "# initializing weight\n",
    "weights_input_hidden = np.random.uniform(size=(inputLayer_neurons, hiddenLayer_neurons))\n",
    "weights_hidden_output = np.random.uniform(\n",
    "    size=(hiddenLayer_neurons, outputLayer_neurons)\n",
    ")\n",
    "\n",
    "# defining the parameters\n",
    "lr = 0.1\n",
    "epochs = 10000\n",
    "\n",
    "losses = []\n",
    "for epoch in range(epochs):\n",
    "    ## Forward Propogation\n",
    "\n",
    "    # calculating hidden layer activations\n",
    "    hiddenLayer_linearTransform = np.dot(weights_input_hidden.T, X)\n",
    "    hiddenLayer_activations = sigmoid(hiddenLayer_linearTransform)\n",
    "\n",
    "    # calculating the output\n",
    "    outputLayer_linearTransform = np.dot(\n",
    "        weights_hidden_output.T, hiddenLayer_activations\n",
    "    )\n",
    "    output = sigmoid(outputLayer_linearTransform)\n",
    "\n",
    "    ## Backward Propagation\n",
    "\n",
    "    # calculating error\n",
    "    error = np.square(y - output) / 2\n",
    "\n",
    "    # calculating rate of change of error w.r.t weight between hidden and output layer\n",
    "    error_wrt_output = -(y - output)\n",
    "    output_wrt_outputLayer_LinearTransform = np.multiply(output, (1 - output))\n",
    "    outputLayer_LinearTransform_wrt_weights_hidden_output = hiddenLayer_activations\n",
    "\n",
    "    error_wrt_weights_hidden_output = np.dot(\n",
    "        outputLayer_LinearTransform_wrt_weights_hidden_output,\n",
    "        (error_wrt_output * output_wrt_outputLayer_LinearTransform).T,\n",
    "    )\n",
    "\n",
    "    # calculating rate of change of error w.r.t weights between input and hidden layer\n",
    "    outputLayer_LinearTransform_wrt_hiddenLayer_activations = weights_hidden_output\n",
    "    hiddenLayer_activations_wrt_hiddenLayer_linearTransform = np.multiply(\n",
    "        hiddenLayer_activations, (1 - hiddenLayer_activations)\n",
    "    )\n",
    "    hiddenLayer_linearTransform_wrt_weights_input_hidden = X\n",
    "    error_wrt_weights_input_hidden = np.dot(\n",
    "        hiddenLayer_linearTransform_wrt_weights_input_hidden,\n",
    "        (\n",
    "            hiddenLayer_activations_wrt_hiddenLayer_linearTransform\n",
    "            * np.dot(\n",
    "                outputLayer_LinearTransform_wrt_hiddenLayer_activations,\n",
    "                (output_wrt_outputLayer_LinearTransform * error_wrt_output),\n",
    "            )\n",
    "        ).T,\n",
    "    )\n",
    "\n",
    "    # updating the weights\n",
    "    weights_hidden_output = weights_hidden_output - lr * error_wrt_weights_hidden_output\n",
    "    weights_input_hidden = weights_input_hidden - lr * error_wrt_weights_input_hidden\n",
    "\n",
    "    # print error at every 100th epoch\n",
    "    epoch_loss = np.average(error)\n",
    "    if epoch % 500 == 0:\n",
    "        print(f\"Epoch of NN {epoch} is {epoch_loss:.3f}\")\n",
    "\n",
    "    # appending the error of each epoch\n",
    "    losses.append(epoch_loss)"
   ]
  },
  {
   "cell_type": "code",
   "execution_count": 28,
   "id": "6f80870b",
   "metadata": {},
   "outputs": [
    {
     "data": {
      "text/plain": [
       "[<matplotlib.lines.Line2D at 0x2640dea9700>]"
      ]
     },
     "execution_count": 28,
     "metadata": {},
     "output_type": "execute_result"
    },
    {
     "data": {
      "image/png": "[encoded data removed]",
      "text/plain": [
       "<Figure size 432x288 with 1 Axes>"
      ]
     },
     "metadata": {
      "needs_background": "light"
     },
     "output_type": "display_data"
    }
   ],
   "source": [
    "# visualizing the error after each epoch\n",
    "plt.plot(np.arange(1, epochs+1 ), np.array(losses))"
   ]
  },
  {
   "cell_type": "code",
   "execution_count": 29,
   "id": "a7127c02",
   "metadata": {},
   "outputs": [
    {
     "data": {
      "text/plain": [
       "array([[9.80996863e-01, 5.24579156e-10, 9.99105455e-01, 9.99165729e-01,\n",
       "        1.18963106e-05]])"
      ]
     },
     "execution_count": 29,
     "metadata": {},
     "output_type": "execute_result"
    }
   ],
   "source": [
    "# final output from the model\n",
    "output[:, :5]"
   ]
  },
  {
   "cell_type": "code",
   "execution_count": 30,
   "id": "ee65972f",
   "metadata": {},
   "outputs": [
    {
     "data": {
      "text/plain": [
       "array([[0, 1, 1, 0, 1]], dtype=int64)"
      ]
     },
     "execution_count": 30,
     "metadata": {},
     "output_type": "execute_result"
    }
   ],
   "source": [
    "y[:,1:6]"
   ]
  },
  {
   "cell_type": "code",
   "execution_count": 31,
   "id": "f3ab1c25",
   "metadata": {},
   "outputs": [
    {
     "data": {
      "text/plain": [
       "<matplotlib.collections.PathCollection at 0x2640e39fd60>"
      ]
     },
     "execution_count": 31,
     "metadata": {},
     "output_type": "execute_result"
    },
    {
     "data": {
      "image/png": "[encoded data removed]",
      "text/plain": [
       "<Figure size 432x288 with 1 Axes>"
      ]
     },
     "metadata": {
      "needs_background": "light"
     },
     "output_type": "display_data"
    }
   ],
   "source": [
    "# Define region of interest by data limits\n",
    "steps = 500\n",
    "x_span = np.linspace(X[ :,0].min(), X[ :,0].max(), steps)\n",
    "y_span = np.linspace(X[:,1].min(), X[:,1].max(), steps)\n",
    "xx, yy = np.meshgrid(x_span, y_span)\n",
    "\n",
    "# forward pass for region of interest\n",
    "hiddenLayer_linearTransform = np.dot(\n",
    "    weights_input_hidden.T, np.c_[xx.ravel(), yy.ravel()].T\n",
    ")\n",
    "hiddenLayer_activations = sigmoid(hiddenLayer_linearTransform)\n",
    "outputLayer_linearTransform = np.dot(weights_hidden_output.T, hiddenLayer_activations)\n",
    "output_span = sigmoid(outputLayer_linearTransform)\n",
    "\n",
    "# Make predictions across region of interest\n",
    "labels = (output_span > 0.5).astype(int)\n",
    "\n",
    "# Plot decision boundary in region of interest\n",
    "z = labels.reshape(xx.shape)\n",
    "fig, plt = plt.subplots()\n",
    "plt.contourf(xx, yy, z, alpha=0.2)\n",
    "\n",
    "# Get predicted labels on training data and plot\n",
    "train_labels = (output > 0.5).astype(int)\n",
    "\n",
    "# create scatter plot\n",
    "plt.scatter(X[0, :], X[1, :], s=10, c=y.squeeze())"
   ]
  },
  {
   "cell_type": "code",
   "execution_count": null,
   "id": "55591509",
   "metadata": {},
   "outputs": [],
   "source": []
  },
  {
   "cell_type": "code",
   "execution_count": 32,
   "id": "d2e17e4b",
   "metadata": {},
   "outputs": [
    {
     "data": {
      "text/html": [
       "<div>\n",
       "<style scoped>\n",
       "    .dataframe tbody tr th:only-of-type {\n",
       "        vertical-align: middle;\n",
       "    }\n",
       "\n",
       "    .dataframe tbody tr th {\n",
       "        vertical-align: top;\n",
       "    }\n",
       "\n",
       "    .dataframe thead th {\n",
       "        text-align: right;\n",
       "    }\n",
       "</style>\n",
       "<table border=\"1\" class=\"dataframe\">\n",
       "  <thead>\n",
       "    <tr style=\"text-align: right;\">\n",
       "      <th></th>\n",
       "      <th>X0</th>\n",
       "      <th>X1</th>\n",
       "      <th>X2</th>\n",
       "      <th>Class</th>\n",
       "    </tr>\n",
       "  </thead>\n",
       "  <tbody>\n",
       "    <tr>\n",
       "      <th>0</th>\n",
       "      <td>0.961400</td>\n",
       "      <td>5.677191</td>\n",
       "      <td>11.407020</td>\n",
       "      <td>0</td>\n",
       "    </tr>\n",
       "    <tr>\n",
       "      <th>1</th>\n",
       "      <td>2.372228</td>\n",
       "      <td>5.335292</td>\n",
       "      <td>9.460564</td>\n",
       "      <td>0</td>\n",
       "    </tr>\n",
       "    <tr>\n",
       "      <th>2</th>\n",
       "      <td>2.022249</td>\n",
       "      <td>7.501127</td>\n",
       "      <td>9.072816</td>\n",
       "      <td>0</td>\n",
       "    </tr>\n",
       "    <tr>\n",
       "      <th>3</th>\n",
       "      <td>4.464773</td>\n",
       "      <td>7.819388</td>\n",
       "      <td>9.183951</td>\n",
       "      <td>0</td>\n",
       "    </tr>\n",
       "    <tr>\n",
       "      <th>4</th>\n",
       "      <td>1.191087</td>\n",
       "      <td>5.880269</td>\n",
       "      <td>10.119531</td>\n",
       "      <td>0</td>\n",
       "    </tr>\n",
       "    <tr>\n",
       "      <th>...</th>\n",
       "      <td>...</td>\n",
       "      <td>...</td>\n",
       "      <td>...</td>\n",
       "      <td>...</td>\n",
       "    </tr>\n",
       "    <tr>\n",
       "      <th>245</th>\n",
       "      <td>0.380539</td>\n",
       "      <td>6.062599</td>\n",
       "      <td>8.584218</td>\n",
       "      <td>0</td>\n",
       "    </tr>\n",
       "    <tr>\n",
       "      <th>246</th>\n",
       "      <td>2.929468</td>\n",
       "      <td>-8.016101</td>\n",
       "      <td>2.612362</td>\n",
       "      <td>1</td>\n",
       "    </tr>\n",
       "    <tr>\n",
       "      <th>247</th>\n",
       "      <td>2.758227</td>\n",
       "      <td>-8.496349</td>\n",
       "      <td>2.857833</td>\n",
       "      <td>1</td>\n",
       "    </tr>\n",
       "    <tr>\n",
       "      <th>248</th>\n",
       "      <td>2.236813</td>\n",
       "      <td>5.510850</td>\n",
       "      <td>10.399619</td>\n",
       "      <td>0</td>\n",
       "    </tr>\n",
       "    <tr>\n",
       "      <th>249</th>\n",
       "      <td>2.155588</td>\n",
       "      <td>4.379997</td>\n",
       "      <td>8.368293</td>\n",
       "      <td>0</td>\n",
       "    </tr>\n",
       "  </tbody>\n",
       "</table>\n",
       "<p>250 rows × 4 columns</p>\n",
       "</div>"
      ],
      "text/plain": [
       "           X0        X1         X2  Class\n",
       "0    0.961400  5.677191  11.407020      0\n",
       "1    2.372228  5.335292   9.460564      0\n",
       "2    2.022249  7.501127   9.072816      0\n",
       "3    4.464773  7.819388   9.183951      0\n",
       "4    1.191087  5.880269  10.119531      0\n",
       "..        ...       ...        ...    ...\n",
       "245  0.380539  6.062599   8.584218      0\n",
       "246  2.929468 -8.016101   2.612362      1\n",
       "247  2.758227 -8.496349   2.857833      1\n",
       "248  2.236813  5.510850  10.399619      0\n",
       "249  2.155588  4.379997   8.368293      0\n",
       "\n",
       "[250 rows x 4 columns]"
      ]
     },
     "execution_count": 32,
     "metadata": {},
     "output_type": "execute_result"
    }
   ],
   "source": [
    "data = 'C:/Users/Admin/Downloads/Assignment 1 Required Materials (1)/blobs250.csv'\n",
    "df = pd.read_csv(data ,  header = 0)\n",
    "df"
   ]
  },
  {
   "cell_type": "code",
   "execution_count": 33,
   "id": "722e4ac4",
   "metadata": {},
   "outputs": [],
   "source": [
    "# The y values are those labelled 'Class': extract their values\n",
    "y = df['Class'].values\n",
    "\n",
    "# The x values are all other columns\n",
    "del df['Class']   # drop the 'Class' column from the dataframe\n",
    "X = df.values     # convert the remaining columns to a numpy array"
   ]
  },
  {
   "cell_type": "code",
   "execution_count": 34,
   "id": "8e15388e",
   "metadata": {},
   "outputs": [
    {
     "name": "stdout",
     "output_type": "stream",
     "text": [
      "len(X): 250\n",
      "len(X[0]): 3\n",
      "len(X[:,0]): 250\n",
      "X: nsamples = 250 , nattribs = 3\n",
      "len(y) 250\n",
      "np.shape(y): (250,)\n",
      "np.shape(yt): (250, 1)\n",
      "y transpose: nsamples = 250 , nattribs = 1\n"
     ]
    }
   ],
   "source": [
    "# Some examples of working with the data, to look at rows/columns\n",
    "print (\"len(X):\", len(X))            # outer array: one per sample\n",
    "print (\"len(X[0]):\", len(X[0]))      # each inner array is the attributes of one sample\n",
    "print (\"len(X[:,0]):\", len(X[:,0]))  # select column 0 from array\n",
    "\n",
    "# np.shape returns all dimensions of the array\n",
    "(nsamples, nattribs) = np.shape(X)\n",
    "print (\"X: nsamples =\", nsamples, \", nattribs =\", nattribs)\n",
    "\n",
    "# Now example the y vector (1D array)\n",
    "print (\"len(y)\", len(y))\n",
    "print (\"np.shape(y):\", np.shape(y))\n",
    "\n",
    "# You can transpose the y data using 'reshape'\n",
    "yt = np.reshape(y, (len(y),1))  \n",
    "print (\"np.shape(yt):\", np.shape(yt))\n",
    "(nsamples, nattribs) = np.shape(yt)\n",
    "print (\"y transpose: nsamples =\", nsamples, \", nattribs =\", nattribs)"
   ]
  },
  {
   "cell_type": "code",
   "execution_count": 35,
   "id": "214e9f39",
   "metadata": {},
   "outputs": [
    {
     "data": {
      "text/plain": [
       "<matplotlib.collections.PathCollection at 0x2640e9fc5e0>"
      ]
     },
     "execution_count": 35,
     "metadata": {},
     "output_type": "execute_result"
    }
   ],
   "source": [
    "# plot X[0] vs X[1] and colour points according to the class, y\n",
    "plt.scatter(X[:,0], X[:,1], c=y)  "
   ]
  },
  {
   "cell_type": "code",
   "execution_count": 36,
   "id": "d821bad4",
   "metadata": {},
   "outputs": [],
   "source": [
    "class logisticRegression:\n",
    "\n",
    "  def __init__(self,lr=0.001,n_iters=1000):\n",
    "    self.lr = lr\n",
    "    self.n_iters = n_iters\n",
    "    self.weights = None\n",
    "    self.bias = None\n",
    "\n",
    "  def fit(self,X,y):\n",
    "    #init parameters\n",
    "    n_samples, n_features = X.shape\n",
    "    self.weights = np.zeros(n_features)\n",
    "    self.bias = 0\n",
    "  def fit(self,X,y):\n",
    "    #init parameters\n",
    "    n_samples, n_features = X.shape\n",
    "    self.weights = np.zeros(n_features)\n",
    "    self.bias = 0\n",
    "\n",
    "    #gradient descent\n",
    "    for _ in range(self.n_iters):\n",
    "      linear_model = np.dot(X,self.weights) + self.bias\n",
    "      y_predicted = self._sigmoid(linear_model)\n",
    "\n",
    "  def predict(self,X):\n",
    "    linear_model = np.dot(X,self.weights) + self.bias\n",
    "    y_predicted = self._sigmoid(linear_model)\n",
    "    y_predicted_cls = [1 if i>0.5 else 0 for i in y_predicted]\n",
    "    return y_predicted_cls\n",
    "  def _sigmoid(self,x):\n",
    "    return(1/(1+np.exp(-x)))\n"
   ]
  },
  {
   "cell_type": "code",
   "execution_count": 37,
   "id": "1dbeb456",
   "metadata": {},
   "outputs": [],
   "source": [
    "X_train, X_test, y_train, y_test = train_test_split(X, y, test_size=0.2, random_state=1234)"
   ]
  },
  {
   "cell_type": "code",
   "execution_count": 38,
   "id": "47f9a5da",
   "metadata": {},
   "outputs": [
    {
     "data": {
      "text/plain": [
       "(50, 3)"
      ]
     },
     "execution_count": 38,
     "metadata": {},
     "output_type": "execute_result"
    }
   ],
   "source": [
    "X_test.shape"
   ]
  },
  {
   "cell_type": "code",
   "execution_count": 39,
   "id": "3a4d4379",
   "metadata": {},
   "outputs": [],
   "source": [
    "def accuracy(y_true,y_pred):\n",
    "  accuracy = np.sum(y_true == y_pred)/len(y_true)*200\n",
    "  return accuracy"
   ]
  },
  {
   "cell_type": "code",
   "execution_count": 40,
   "id": "f56dcff4",
   "metadata": {},
   "outputs": [],
   "source": [
    "regressor = logisticRegression()\n",
    "regressor.fit(X_train,y_train)"
   ]
  },
  {
   "cell_type": "code",
   "execution_count": 41,
   "id": "ac609868",
   "metadata": {},
   "outputs": [
    {
     "name": "stdout",
     "output_type": "stream",
     "text": [
      "Accuracy of LogisticRegression:  88.0\n"
     ]
    }
   ],
   "source": [
    "predictions = regressor.predict(X_test)\n",
    "\n",
    "print(\"Accuracy of LogisticRegression: \",accuracy(y_test, predictions))"
   ]
  },
  {
   "cell_type": "code",
   "execution_count": 86,
   "id": "21d6786c",
   "metadata": {},
   "outputs": [],
   "source": [
    "# Read Input data from csv file\n",
    "def make_blobs(file_name):\n",
    "    # Import dataset using pandas\n",
    "    df = pd.read_csv(file_name)\n",
    "\n",
    "    # The y values are those labelled 'Class': extract their values\n",
    "    y = df['Class'].values\n",
    "\n",
    "    # The x values are all other columns\n",
    "    del df['Class'] # drop the 'Class' column from the dataframe\n",
    "    del df['X0']\n",
    "    X = df.values     # convert the remaining columns to a numpy array\n",
    "    return X, y"
   ]
  },
  {
   "cell_type": "code",
   "execution_count": 87,
   "id": "7bf836ef",
   "metadata": {},
   "outputs": [],
   "source": [
    "# Read the Blobs dataset\n",
    "X, y = make_blobs(\"C:/Users/Admin/Downloads/Assignment 1 Required Materials (1)/blobs250.csv\")"
   ]
  },
  {
   "cell_type": "code",
   "execution_count": 88,
   "id": "b42bf3f5",
   "metadata": {},
   "outputs": [
    {
     "data": {
      "text/plain": [
       "(0.0, 1.0)"
      ]
     },
     "execution_count": 88,
     "metadata": {},
     "output_type": "execute_result"
    }
   ],
   "source": [
    "X -= X.min()\n",
    "X /= X.max()\n",
    "X.min(), X.max()\n"
   ]
  },
  {
   "cell_type": "code",
   "execution_count": 89,
   "id": "26275e02",
   "metadata": {},
   "outputs": [
    {
     "data": {
      "text/plain": [
       "array([0, 1], dtype=int64)"
      ]
     },
     "execution_count": 89,
     "metadata": {},
     "output_type": "execute_result"
    }
   ],
   "source": [
    "np.unique(y)"
   ]
  },
  {
   "cell_type": "code",
   "execution_count": 90,
   "id": "9bfb0c74",
   "metadata": {},
   "outputs": [
    {
     "data": {
      "text/plain": [
       "((250, 2), (250,))"
      ]
     },
     "execution_count": 90,
     "metadata": {},
     "output_type": "execute_result"
    }
   ],
   "source": [
    "X.shape, y.shape"
   ]
  },
  {
   "cell_type": "code",
   "execution_count": 91,
   "id": "b5e6bba4",
   "metadata": {},
   "outputs": [],
   "source": [
    "X = X.T\n",
    "\n",
    "y = y.reshape(1, -1)"
   ]
  },
  {
   "cell_type": "code",
   "execution_count": 92,
   "id": "006c2495",
   "metadata": {},
   "outputs": [
    {
     "data": {
      "text/plain": [
       "((2, 250), (1, 250))"
      ]
     },
     "execution_count": 92,
     "metadata": {},
     "output_type": "execute_result"
    }
   ],
   "source": [
    "X.shape, y.shape"
   ]
  },
  {
   "cell_type": "code",
   "execution_count": 93,
   "id": "2707afcc",
   "metadata": {},
   "outputs": [],
   "source": [
    "import math\n",
    "\n",
    "def sigmoid(x):\n",
    "    return 1 / (1 + math.e ** -x)"
   ]
  },
  {
   "cell_type": "code",
   "execution_count": 94,
   "id": "6ac33faa",
   "metadata": {},
   "outputs": [],
   "source": [
    "# Construct a Shallow Neural Network with a single hidden layer.\n",
    "class ShallowNN:\n",
    "    \n",
    "    # Initialize the learning rate alpha, the number of iterations, and the threshold with this function\n",
    "    def __init__(self, alpha = 0.01, iterations = 1000, threshold = 1e-6): \n",
    "        self.alpha = alpha\n",
    "        self.iterations = iterations\n",
    "        self.threshold = threshold\n",
    "    \n",
    "    # Set the starting weights and bias to a set of valid values\n",
    "    def Initialise_nn(self, features_x, hidden_nodes):\n",
    "        W1 = np.random.normal(0, 0.01, size = (features_x, hidden_nodes))# Initialize the random values to the weights for nodes of an hidden layer\n",
    "        # Initialize bias = 0 for nodes is an hidden layer\n",
    "        b1 = np.zeros((hidden_nodes, 1))\n",
    "        # Initialize the random values to the weights for the node in output layer\n",
    "        W2 = np.random.normal(0, 0.01, size = (1, hidden_nodes))\n",
    "        # Initialize bias = 0 for the node is an output layer\n",
    "        b2 = 0\n",
    "        return W1, b1, W2, b2\n",
    "\n",
    "    # Activation function to find sigmoid values of input\n",
    "    def Sigmoid(self, z): \n",
    "        z = np.array(z,dtype=float)\n",
    "        self.err_status = np.geterr()\n",
    "        np.seterr(over = 'ignore')\n",
    "        return 1 / (1 + np.exp(-z))\n"
   ]
  },
  {
   "cell_type": "code",
   "execution_count": 95,
   "id": "007058d5",
   "metadata": {},
   "outputs": [
    {
     "name": "stdout",
     "output_type": "stream",
     "text": [
      "Epoch of NN 0 is 0.2366559\n",
      "Epoch of NN 1000 is 0.0000448\n",
      "Epoch of NN 2000 is 0.0000209\n",
      "Epoch of NN 3000 is 0.0000135\n",
      "Epoch of NN 4000 is 0.0000099\n",
      "Epoch of NN 5000 is 0.0000078\n",
      "Epoch of NN 6000 is 0.0000064\n",
      "Epoch of NN 7000 is 0.0000054\n",
      "Epoch of NN 8000 is 0.0000047\n",
      "Epoch of NN 9000 is 0.0000042\n"
     ]
    }
   ],
   "source": [
    "# defining the model architecture\n",
    "inputLayer_neurons = X.shape[0]  # number of features in data set\n",
    "hiddenLayer_neurons = 10  # number of hidden layers neurons\n",
    "outputLayer_neurons = 1  # number of neurons at output layer\n",
    "\n",
    "# initializing weight\n",
    "weights_input_hidden = np.random.uniform(size=(inputLayer_neurons, hiddenLayer_neurons))\n",
    "weights_hidden_output = np.random.uniform(\n",
    "    size=(hiddenLayer_neurons, outputLayer_neurons)\n",
    ")\n",
    "\n",
    "# defining the parameters\n",
    "lr = 0.1\n",
    "epochs = 10000\n",
    "\n",
    "losses = []\n",
    "for epoch in range(epochs):\n",
    "    ## Forward Propogation\n",
    "\n",
    "    # calculating hidden layer activations\n",
    "    hiddenLayer_linearTransform = np.dot(weights_input_hidden.T, X)\n",
    "    hiddenLayer_activations = sigmoid(hiddenLayer_linearTransform)\n",
    "\n",
    "    # calculating the output\n",
    "    outputLayer_linearTransform = np.dot(\n",
    "        weights_hidden_output.T, hiddenLayer_activations\n",
    "    )\n",
    "    output = sigmoid(outputLayer_linearTransform)\n",
    "\n",
    "    ## Backward Propagation\n",
    "\n",
    "    # calculating error\n",
    "    error = np.square(y - output) / 2\n",
    "\n",
    "    # calculating rate of change of error w.r.t weight between hidden and output layer\n",
    "    error_wrt_output = -(y - output)\n",
    "    output_wrt_outputLayer_LinearTransform = np.multiply(output, (1 - output))\n",
    "    outputLayer_LinearTransform_wrt_weights_hidden_output = hiddenLayer_activations\n",
    "\n",
    "    error_wrt_weights_hidden_output = np.dot(\n",
    "        outputLayer_LinearTransform_wrt_weights_hidden_output,\n",
    "        (error_wrt_output * output_wrt_outputLayer_LinearTransform).T,\n",
    "    )\n",
    "\n",
    "    # calculating rate of change of error w.r.t weights between input and hidden layer\n",
    "    outputLayer_LinearTransform_wrt_hiddenLayer_activations = weights_hidden_output\n",
    "    hiddenLayer_activations_wrt_hiddenLayer_linearTransform = np.multiply(\n",
    "        hiddenLayer_activations, (1 - hiddenLayer_activations)\n",
    "    )\n",
    "    hiddenLayer_linearTransform_wrt_weights_input_hidden = X\n",
    "    error_wrt_weights_input_hidden = np.dot(\n",
    "        hiddenLayer_linearTransform_wrt_weights_input_hidden,\n",
    "        (\n",
    "            hiddenLayer_activations_wrt_hiddenLayer_linearTransform\n",
    "            * np.dot(\n",
    "                outputLayer_LinearTransform_wrt_hiddenLayer_activations,\n",
    "                (output_wrt_outputLayer_LinearTransform * error_wrt_output),\n",
    "            )\n",
    "        ).T,\n",
    "    )\n",
    "\n",
    "    # updating the weights\n",
    "    weights_hidden_output = weights_hidden_output - lr * error_wrt_weights_hidden_output\n",
    "    weights_input_hidden = weights_input_hidden - lr * error_wrt_weights_input_hidden\n",
    "\n",
    "    # print error at every 100th epoch\n",
    "    epoch_loss = np.average(error)\n",
    "    if epoch % 1000 == 0:\n",
    "        print(f\"Epoch of NN {epoch} is {epoch_loss:.7f}\")\n",
    "\n",
    "    # appending the error of each epoch\n",
    "    losses.append(epoch_loss)"
   ]
  },
  {
   "cell_type": "code",
   "execution_count": 96,
   "id": "cd73a69e",
   "metadata": {},
   "outputs": [
    {
     "data": {
      "text/plain": [
       "[<matplotlib.lines.Line2D at 0x2640de7e760>]"
      ]
     },
     "execution_count": 96,
     "metadata": {},
     "output_type": "execute_result"
    }
   ],
   "source": [
    "# visualizing the error after each epoch\n",
    "plt.plot(np.arange(1, epochs+1 ), np.array(losses))\n",
    "plt.plot(epoch_loss)"
   ]
  },
  {
   "cell_type": "code",
   "execution_count": 97,
   "id": "3da86987",
   "metadata": {},
   "outputs": [
    {
     "data": {
      "text/plain": [
       "array([[0.00346454, 0.00340274, 0.00093079, 0.00080134, 0.00259604]])"
      ]
     },
     "execution_count": 97,
     "metadata": {},
     "output_type": "execute_result"
    }
   ],
   "source": [
    "# final output from the model\n",
    "output[:, :5]"
   ]
  },
  {
   "cell_type": "code",
   "execution_count": 98,
   "id": "660307d2",
   "metadata": {},
   "outputs": [
    {
     "data": {
      "text/plain": [
       "array([[0, 0, 0, 0, 0]], dtype=int64)"
      ]
     },
     "execution_count": 98,
     "metadata": {},
     "output_type": "execute_result"
    }
   ],
   "source": [
    "y[:,1:6]"
   ]
  },
  {
   "cell_type": "code",
   "execution_count": 116,
   "id": "cb33b4e2",
   "metadata": {},
   "outputs": [
    {
     "ename": "AttributeError",
     "evalue": "'AxesSubplot' object has no attribute 'subplots'",
     "output_type": "error",
     "traceback": [
      "\u001b[1;31m---------------------------------------------------------------------------\u001b[0m",
      "\u001b[1;31mAttributeError\u001b[0m                            Traceback (most recent call last)",
      "\u001b[1;32m<ipython-input-116-6f47ce88a898>\u001b[0m in \u001b[0;36m<module>\u001b[1;34m\u001b[0m\n\u001b[0;32m     18\u001b[0m \u001b[1;31m# Plot decision boundary in region of interest\u001b[0m\u001b[1;33m\u001b[0m\u001b[1;33m\u001b[0m\u001b[1;33m\u001b[0m\u001b[0m\n\u001b[0;32m     19\u001b[0m \u001b[0mz\u001b[0m \u001b[1;33m=\u001b[0m \u001b[0mlabels\u001b[0m\u001b[1;33m.\u001b[0m\u001b[0mreshape\u001b[0m\u001b[1;33m(\u001b[0m\u001b[0mxx\u001b[0m\u001b[1;33m.\u001b[0m\u001b[0mshape\u001b[0m\u001b[1;33m)\u001b[0m\u001b[1;33m\u001b[0m\u001b[1;33m\u001b[0m\u001b[0m\n\u001b[1;32m---> 20\u001b[1;33m \u001b[0mfig\u001b[0m\u001b[1;33m,\u001b[0m \u001b[0mplt\u001b[0m \u001b[1;33m=\u001b[0m \u001b[0mplt\u001b[0m\u001b[1;33m.\u001b[0m\u001b[0msubplots\u001b[0m\u001b[1;33m(\u001b[0m\u001b[1;33m)\u001b[0m\u001b[1;33m\u001b[0m\u001b[1;33m\u001b[0m\u001b[0m\n\u001b[0m\u001b[0;32m     21\u001b[0m \u001b[0mplt\u001b[0m\u001b[1;33m.\u001b[0m\u001b[0mcontourf\u001b[0m\u001b[1;33m(\u001b[0m\u001b[0mxx\u001b[0m\u001b[1;33m,\u001b[0m \u001b[0myy\u001b[0m\u001b[1;33m,\u001b[0m \u001b[0mz\u001b[0m\u001b[1;33m,\u001b[0m \u001b[0malpha\u001b[0m\u001b[1;33m=\u001b[0m\u001b[1;36m0.001\u001b[0m\u001b[1;33m)\u001b[0m\u001b[1;33m\u001b[0m\u001b[1;33m\u001b[0m\u001b[0m\n\u001b[0;32m     22\u001b[0m \u001b[1;33m\u001b[0m\u001b[0m\n",
      "\u001b[1;31mAttributeError\u001b[0m: 'AxesSubplot' object has no attribute 'subplots'"
     ]
    }
   ],
   "source": [
    "# Define region of interest by data limits\n",
    "steps = 500\n",
    "x_span = np.linspace(X[ :,0].min(), X[ :,0].max(), steps)\n",
    "y_span = np.linspace(X[:,1].min(), X[:,1].max(), steps)\n",
    "xx, yy = np.meshgrid(x_span, y_span)\n",
    "\n",
    "# forward pass for region of interest\n",
    "hiddenLayer_linearTransform = np.dot(\n",
    "    weights_input_hidden.T, np.c_[xx.ravel(), yy.ravel()].T\n",
    ")\n",
    "hiddenLayer_activations = sigmoid(hiddenLayer_linearTransform)\n",
    "outputLayer_linearTransform = np.dot(weights_hidden_output.T, hiddenLayer_activations)\n",
    "output_span = sigmoid(outputLayer_linearTransform)\n",
    "\n",
    "# Make predictions across region of interest\n",
    "labels = (output_span > 0.5).astype(int)\n",
    "\n",
    "# Plot decision boundary in region of interest\n",
    "z = labels.reshape(xx.shape)\n",
    "fig, plt = plt.subplots()\n",
    "plt.contourf(xx, yy, z, alpha=0.001)\n",
    "\n",
    "# fig, ax = plt.subplots()\n",
    "# plt.set_facecolor(xx, yy, z, alpha=0.2)\n",
    "\n",
    "# Get predicted labels on training data and plot\n",
    "train_labels = (output > 0.5).astype(int)\n",
    "\n",
    "# create scatter plot\n",
    "plt.scatter(X[0, :], X[1, :], s=10, c=y.squeeze())"
   ]
  },
  {
   "cell_type": "code",
   "execution_count": 37,
   "id": "f94d405a",
   "metadata": {},
   "outputs": [
    {
     "name": "stdout",
     "output_type": "stream",
     "text": [
      "1032\n",
      "\n",
      "(1032, 32, 32, 3)\n",
      "(1032,)\n",
      "\n",
      "(1032, 32, 32, 3)\n",
      "(1032,)\n",
      "\n",
      "(2064, 32, 32, 3)\n",
      "(2064,)\n",
      "\n",
      "(1900, 32, 32, 3)\n",
      "(1900,)\n",
      "(164, 32, 32, 3)\n",
      "(164,)\n"
     ]
    },
    {
     "data": {
      "image/png": "[encoded data removed]",
      "text/plain": [
       "<Figure size 1080x1080 with 5 Axes>"
      ]
     },
     "metadata": {
      "needs_background": "light"
     },
     "output_type": "display_data"
    }
   ],
   "source": [
    "# Creating function for loading single batch of CIFAR-10 dataset\n",
    "def single_batch_cifar10(file):\n",
    "    # Opening file for reading in binary mode\n",
    "    with open(file, 'rb') as f_single_batch:\n",
    "        d_single_batch = pickle.load(f_single_batch, encoding='latin1')  # dictionary type, we use 'latin1' for python3\n",
    "        x = d_single_batch['data']  # numpy.ndarray type, (10000, 3072)\n",
    "        y = d_single_batch['labels']  # list type\n",
    "        \"\"\"Initially every batch's dictionary with key 'data' has shape (10000, 3072)\n",
    "        Where, 10000 - number of image samples\n",
    "        3072 - three channels of image (red + green + blue)\n",
    "        Every row contains an image 32x32 pixels with its three channels\"\"\"\n",
    "        \n",
    "        # Here we reshape and transpose ndarray for further use\n",
    "        # Firstly, we need to divide line (3072) for 3 channels\n",
    "        # Then, we divide each channel for 32 by 32 matrixes\n",
    "        # Finally, we use transpose to put channels at the end in order to be able to show images\n",
    "        x = x.reshape(10000, 3, 32, 32).transpose(0, 2, 3, 1)  # (10000, 32, 32, 3)\n",
    "        # Making numpy array from list of labels\n",
    "        y = np.array(y)\n",
    "\n",
    "        # Returning ready data\n",
    "        return x, y\n",
    "\n",
    "\n",
    "# Preparing labels for each class\n",
    "# CIFAR-10 has 10 classes from 0 to 9\n",
    "labels = ['dog', 'frog']\n",
    "\n",
    "# Loading data from file\n",
    "x, y = single_batch_cifar10('C:/Users/Admin/Downloads/cifar-10-python/cifar-10-batches-py/data_batch_1')\n",
    "\n",
    "# Preparing list for storing indexes of birds and non-birds from dataset\n",
    "indexes_for_birds = []\n",
    "indexes_for_non_birds = []\n",
    "# Going through loaded dataset and picking up needed indexes\n",
    "for i in range(10000):\n",
    "    if y[i] == 2:\n",
    "        indexes_for_birds += [i]\n",
    "    else:\n",
    "        indexes_for_non_birds += [i]\n",
    "\n",
    "# Checking how many images with birds we got\n",
    "m_birds = len(indexes_for_birds)  # 1032\n",
    "print(m_birds)\n",
    "print()\n",
    "\n",
    "# Getting from data only images with birds as we will work with one type only\n",
    "batch_mask = indexes_for_birds\n",
    "x_birds = x[batch_mask]\n",
    "y_birds = np.ones((m_birds))\n",
    "print(x_birds.shape, y_birds.shape, sep='\\n')  # (1032, 32, 32, 3)  (1032,)\n",
    "print()\n",
    "\n",
    "# Getting from data images with non-birds\n",
    "batch_mask = indexes_for_non_birds[:m_birds]  # Slicing to make amout of images with non-birds the same with birds\n",
    "x_non_birds = x[batch_mask]\n",
    "y_non_birds = np.zeros((m_birds))\n",
    "print(x_non_birds.shape, y_non_birds.shape, sep='\\n')  # (1032, 32, 32, 3)  (1032,)\n",
    "print()\n",
    "\n",
    "# Stacking data with birds and non-birds together\n",
    "x = np.vstack((x_birds, x_non_birds))\n",
    "y = np.hstack((y_birds, y_non_birds))\n",
    "print(x.shape, y.shape, sep='\\n')  # (2064, 32, 32, 3)  (2064,)\n",
    "print()\n",
    "\n",
    "# Shuffle data\n",
    "# Multi-dimensional arrays are only shuffled along the first axis\n",
    "# By using seed we generate two times the same random numbers and save appropriate connection: image --> label\n",
    "np.random.seed(0)\n",
    "np.random.shuffle(x)\n",
    "np.random.seed(0)\n",
    "np.random.shuffle(y)\n",
    "\n",
    "# Preparing data for training and testing\n",
    "# Data for training is taken with first 1900 examples\n",
    "batch_mask = list(range(1900))  # [0 .. 1899]\n",
    "x_train = x[batch_mask]  # (1900, 32, 32, 3)\n",
    "y_train = y[batch_mask]  # (1900,)\n",
    "# Data for testing is taken with last 100 examples\n",
    "batch_mask = list(range(1900, 2064))  # [932 .. 1031]\n",
    "x_test = x[batch_mask]  # (164, 32, 32, 3)\n",
    "y_test = y[batch_mask]  # (164,)\n",
    "print(x_train.shape, y_train.shape, x_test.shape, y_test.shape, sep='\\n')\n",
    "\n",
    "# Plotting 5 examples of images and checking labels\n",
    "%matplotlib inline\n",
    "plt.rcParams['figure.figsize'] = (15, 15) # Setting default size of plots\n",
    "# Preparing figures for plotting\n",
    "figure_1, ax = plt.subplots(nrows=1, ncols=5)\n",
    "# 'ax 'is as (3,) np array and we can call each time ax[0]\n",
    "ax[0].imshow(x_train[0])\n",
    "ax[0].set_title('label = ' + str(int(y_train[0])))\n",
    "ax[1].imshow(x_train[20])\n",
    "ax[1].set_title('label =' + str(int(y_train[20])))\n",
    "ax[2].imshow(x_train[300])\n",
    "ax[2].set_title('label =' + str(int(y_train[300])))\n",
    "ax[3].imshow(x_train[1000])\n",
    "ax[3].set_title('label =' + str(int(y_train[1000])))\n",
    "ax[4].imshow(x_train[1500])\n",
    "ax[4].set_title('label =' + str(int(y_train[1500])))\n",
    "plt.show()"
   ]
  },
  {
   "cell_type": "code",
   "execution_count": 22,
   "id": "c4938bd5",
   "metadata": {},
   "outputs": [
    {
     "name": "stdout",
     "output_type": "stream",
     "text": [
      "(3072, 1900)\n",
      "(1, 1900)\n",
      "(3072, 164)\n",
      "(1, 164)\n"
     ]
    }
   ],
   "source": [
    "x_train_flatten = x_train.reshape(x_train.shape[0], -1).T\n",
    "y_train_columns = y_train.reshape(1, y_train.shape[0])\n",
    "x_test_flatten = x_test.reshape(x_test.shape[0], -1).T\n",
    "y_test_columns = y_test.reshape(1, y_test.shape[0])\n",
    "\n",
    "print(x_train_flatten.shape)\n",
    "print(y_train_columns.shape)\n",
    "print(x_test_flatten.shape)\n",
    "print(y_test_columns.shape)"
   ]
  },
  {
   "cell_type": "code",
   "execution_count": 23,
   "id": "35935bdd",
   "metadata": {},
   "outputs": [],
   "source": [
    "x_train_processed = x_train_flatten / 255.0\n",
    "x_test_processed = x_test_flatten / 255.0"
   ]
  },
  {
   "cell_type": "code",
   "execution_count": 24,
   "id": "ccb1d857",
   "metadata": {},
   "outputs": [],
   "source": [
    "# Function to calculate sigmoid\n",
    "# Function computes sigmoid of input\n",
    "# Input is a scalar or numpy array of any size\n",
    "def sigmoid(z):\n",
    "    s = 1 / (1 + np.exp(-z))\n",
    "    return s"
   ]
  },
  {
   "cell_type": "code",
   "execution_count": 25,
   "id": "c7262f23",
   "metadata": {},
   "outputs": [],
   "source": [
    "# Function for parameters initilization\n",
    "# Initializing weights as zero vector with shape (dim, 1) and bias as 0\n",
    "def initialize_with_zeros(dim):\n",
    "    w = np.zeros((dim, 1))\n",
    "    b = 0\n",
    "    return w, b"
   ]
  },
  {
   "cell_type": "code",
   "execution_count": 26,
   "id": "f1000ec8",
   "metadata": {},
   "outputs": [],
   "source": [
    "# Function for \"forward\" and \"backward\" propagation steps\n",
    "# Computes the Cost Function and its Gradient\n",
    "def propagate(w, b, x, y):\n",
    "    # Number of input images\n",
    "    m = x.shape[1]\n",
    "    # Computing Activation\n",
    "    A = sigmoid(np.dot(w.T, x) + b)\n",
    "    # Computing Cost Function\n",
    "    cost = (-1 / m) * (np.dot(y, np.log(A).T) + np.dot((1 - y), np.log(1 - A).T))\n",
    "    cost = np.squeeze(cost)  # Deleting all 1-dimensions from array\n",
    "    # Computing Gradient\n",
    "    dw = (1 / m) * np.dot(x, (A - y).T)\n",
    "    db = (1 / m) * np.sum(A - y)\n",
    "    grad = {'dw': dw, 'db': db}\n",
    "    \n",
    "    return grad, cost"
   ]
  },
  {
   "cell_type": "code",
   "execution_count": 27,
   "id": "2e6bc41a",
   "metadata": {},
   "outputs": [],
   "source": [
    "# Function for updating parameters\n",
    "# Implementation of optimizing w and b by running Gradient Descent Algorithm\n",
    "# Function returns:\n",
    "# params - dictionary with weights and bias\n",
    "# grads - dictionary with gradient of weights and bias\n",
    "# cost_history - history with list of all costs computed during optimization\n",
    "def optimize(w, b, x, y, number_of_iterations, learning_rate, print_cost = False):\n",
    "    # Preparing list for storing history of computed cost\n",
    "    cost_history = []\n",
    "    \n",
    "    # Iterating and optimizing parameters\n",
    "    for i in range(number_of_iterations):\n",
    "        # Computing cost and gradient\n",
    "        grad, cost = propagate(w, b, x, y)\n",
    "        # Retrieving derivatives\n",
    "        dw = grad['dw']\n",
    "        db = grad['db']\n",
    "        \n",
    "        # Updating parameters\n",
    "        w -= learning_rate * dw\n",
    "        b -= learning_rate * db\n",
    "        \n",
    "        # Recording cost into the history every 100 iterations\n",
    "        if i % 100 == 0:\n",
    "            cost_history.append(cost)\n",
    "            \n",
    "        # Printing cost every 100 iterations\n",
    "        if print_cost and i % 100 == 0:\n",
    "            print('Cost after {0}: {1}'.format(i, cost))\n",
    "    \n",
    "    # Saving updated parameters and gradient\n",
    "    params = {'w': w, 'b': b}\n",
    "    grad = {'dw': dw, 'db': db}\n",
    "            \n",
    "    return params, grad, cost_history"
   ]
  },
  {
   "cell_type": "code",
   "execution_count": 28,
   "id": "35d38d41",
   "metadata": {},
   "outputs": [],
   "source": [
    "# Function for predicting\n",
    "# Computing prediction scores and converting them\n",
    "# into 0 if activation is less or equal to 0.5 \n",
    "# into 1 if activation is more than 0.5# Function returns:\n",
    "# Function returns:\n",
    "# y_prediction - numpy array (vector) containing all predictions for input images\n",
    "def predict(w, b, x):\n",
    "    # Retrieving number of input images\n",
    "    m = x.shape[1]\n",
    "    # Preparing zero valued vector for results\n",
    "    y_prediction = np.zeros((1, m))\n",
    "    # Reshaping weights giving to it one more dimension\n",
    "    w = w.reshape(x.shape[0], 1)\n",
    "    \n",
    "    # Computing vector A with probabilities\n",
    "    A = sigmoid(np.dot(w.T, x) + b)\n",
    "    \n",
    "    # Converting probabilities to 1 or 0\n",
    "    for i in range(A.shape[1]):\n",
    "        if A[0, i] >= 0.5:\n",
    "            y_prediction[0, i] = 1\n",
    "        else:\n",
    "            y_prediction[0, i] = 0\n",
    "    \n",
    "    return y_prediction"
   ]
  },
  {
   "cell_type": "code",
   "execution_count": 29,
   "id": "91360802",
   "metadata": {},
   "outputs": [],
   "source": [
    "# Function for model\n",
    "# Merging all helper functions into the model\n",
    "# Function returns:\n",
    "# d - dictionary with information about the model\n",
    "def model(x_train_processed, y_train_columns, x_test_processed, y_test_columns, number_of_iterations = 2000, learning_rate = 0.5, print_cost = False):\n",
    "    # Initializing parameters with 0\n",
    "    w, b = initialize_with_zeros(x_train_processed.shape[0])\n",
    "    \n",
    "    # Optimization with Gradient Descent\n",
    "    params, grad, cost_history = optimize(w, b, x_train_processed, y_train_columns, number_of_iterations, learning_rate, print_cost)\n",
    "    \n",
    "    # Retrieving updated parameters\n",
    "    w = params['w']\n",
    "    b = params['b']\n",
    "    \n",
    "    # Predictions for training and test datasets\n",
    "    y_prediction_train = predict(w, b, x_train_processed)\n",
    "    y_prediction_test = predict(w, b, x_test_processed)\n",
    "    \n",
    "    # Printing train and test accuracy\n",
    "    # By calculating difference between y predicted and true y we receive matrix from which we calculate mean\n",
    "    # That is error: np.mean(np.abs(y_prediction_train - y_train_columns)) * 100\n",
    "    # Consequently, accuracy is: 100 - np.mean(np.abs(y_prediction_train - y_train_columns)) * 100\n",
    "    print('train accuracy: {}'.format(100 - np.mean(np.abs(y_prediction_train - y_train_columns)) * 100))\n",
    "    print('test accuracy: {}'.format(100 - np.mean(np.abs(y_prediction_test - y_test_columns)) * 100))\n",
    "    \n",
    "    d = {'cost_history': cost_history,\n",
    "         'y_prediction_train' : y_prediction_train,\n",
    "         'y_prediction_test': y_prediction_test, \n",
    "         'w' : w, \n",
    "         'b' : b,\n",
    "         'learning_rate' : learning_rate,\n",
    "         'number_of_iterations': number_of_iterations}\n",
    "    \n",
    "    return d"
   ]
  },
  {
   "cell_type": "code",
   "execution_count": 30,
   "id": "d6aab5ea",
   "metadata": {},
   "outputs": [
    {
     "name": "stdout",
     "output_type": "stream",
     "text": [
      "Cost after 0: 0.6931471805599446\n",
      "Cost after 100: 0.6468725557043875\n",
      "Cost after 200: 0.630431849472362\n",
      "Cost after 300: 0.6215236428725204\n",
      "Cost after 400: 0.6156335296501417\n",
      "Cost after 500: 0.611258896244938\n",
      "Cost after 600: 0.6077652381865709\n",
      "Cost after 700: 0.6048369381577174\n",
      "Cost after 800: 0.6022971029017306\n",
      "Cost after 900: 0.6000376653906153\n",
      "Cost after 1000: 0.597988376193194\n",
      "Cost after 1100: 0.5961014468242076\n",
      "Cost after 1200: 0.5943432353543159\n",
      "Cost after 1300: 0.592689413714116\n",
      "Cost after 1400: 0.5911219972845287\n",
      "Cost after 1500: 0.5896274373593532\n",
      "Cost after 1600: 0.5881953532634981\n",
      "Cost after 1700: 0.5868176663823187\n",
      "Cost after 1800: 0.5854879956946085\n",
      "Cost after 1900: 0.5842012283298619\n",
      "train accuracy: 68.57894736842105\n",
      "test accuracy: 59.146341463414636\n"
     ]
    }
   ],
   "source": [
    "d = model(x_train_processed, y_train_columns, x_test_processed, y_test_columns, number_of_iterations = 2000, learning_rate = 0.005, print_cost = True)"
   ]
  },
  {
   "cell_type": "code",
   "execution_count": 32,
   "id": "64109c33",
   "metadata": {},
   "outputs": [
    {
     "name": "stdout",
     "output_type": "stream",
     "text": [
      "true label y = 1\n",
      "predicted label y = 1\n"
     ]
    },
    {
     "data": {
      "image/png": "[encoded data removed]",
      "text/plain": [
       "<Figure size 144x144 with 1 Axes>"
      ]
     },
     "metadata": {
      "needs_background": "light"
     },
     "output_type": "display_data"
    }
   ],
   "source": [
    "# Checking how different images were classified with algorithm\n",
    "# Setting index to check from test dataset\n",
    "index = 10\n",
    "\n",
    "# Plotting this image, but firstly reshaping it in form of (32, 32, 3)\n",
    "%matplotlib inline\n",
    "plt.rcParams['figure.figsize'] = (2, 2) # Setting default size of plots\n",
    "plt.imshow(x_test_flatten[:, index].reshape((32, 32, 3)))\n",
    "\n",
    "# Showing label\n",
    "print('true label y = ' + str(int(y_test_columns[0, index])))\n",
    "print('predicted label y = ' + str(int(d['y_prediction_test'][0, index])))"
   ]
  },
  {
   "cell_type": "code",
   "execution_count": 34,
   "id": "11a21e02",
   "metadata": {},
   "outputs": [
    {
     "data": {
      "image/png": "[encoded data removed]",
      "text/plain": [
       "<Figure size 504x504 with 1 Axes>"
      ]
     },
     "metadata": {
      "needs_background": "light"
     },
     "output_type": "display_data"
    }
   ],
   "source": [
    "# Plotting history of calculated costs\n",
    "%matplotlib inline\n",
    "plt.rcParams['figure.figsize'] = (7, 7) # Setting default size of plots\n",
    "\n",
    "# Retrieving costs from history and deleting one dimension from it\n",
    "cost_history = np.squeeze(d['cost_history'])\n",
    "\n",
    "# Plotting\n",
    "plt.plot(cost_history)\n",
    "plt.ylabel('Cost', fontsize=15)\n",
    "plt.xlabel('Iterations', fontsize=15)\n",
    "plt.title('Training of model with learning rate =' + str(d['learning_rate']), fontsize=20)\n",
    "plt.show()"
   ]
  },
  {
   "cell_type": "code",
   "execution_count": 35,
   "id": "0522d14f",
   "metadata": {},
   "outputs": [
    {
     "name": "stdout",
     "output_type": "stream",
     "text": [
      "learning_rate = 0.01\n",
      "train accuracy: 70.52631578947368\n",
      "test accuracy: 57.926829268292686\n",
      "\n",
      "learning_rate = 0.001\n",
      "train accuracy: 65.78947368421052\n",
      "test accuracy: 60.97560975609756\n",
      "\n",
      "learning_rate = 0.0001\n",
      "train accuracy: 63.15789473684211\n",
      "test accuracy: 57.926829268292686\n",
      "\n"
     ]
    },
    {
     "data": {
      "image/png": "[encoded data removed]",
      "text/plain": [
       "<Figure size 576x504 with 1 Axes>"
      ]
     },
     "metadata": {
      "needs_background": "light"
     },
     "output_type": "display_data"
    }
   ],
   "source": [
    "# It is very important to remember that learning rate determines how rapidly we will update parameters.\n",
    "# And if learning rate is too large we might overshoot optimal value.\n",
    "# Also, if learning rate is too small we might need too many iterations to converge to the best values.\n",
    "\n",
    "# Creating list with different learning rates\n",
    "learning_rates = [0.01, 0.001, 0.0001]\n",
    "\n",
    "# Defining dictionary for models\n",
    "models = {}\n",
    "\n",
    "# Going through different learning rates\n",
    "for i in learning_rates:\n",
    "    print('learning_rate = ' + str(i))\n",
    "    models[str(i)] = model(x_train_processed, y_train_columns, x_test_processed, y_test_columns, number_of_iterations = 2000, learning_rate = i, print_cost = False)\n",
    "    print()\n",
    "    \n",
    "# Plotting history of calculated costs for every model\n",
    "%matplotlib inline\n",
    "plt.rcParams['figure.figsize'] = (8,7) # Setting default size of plots\n",
    "\n",
    "# Retrieving costs from history and deleting one dimension from it\n",
    "for i in learning_rates:\n",
    "    plt.plot(np.squeeze(models[str(i)]['cost_history']), label=str(models[str(i)]['learning_rate']))\n",
    "\n",
    "plt.ylabel('Cost', fontsize=15)\n",
    "plt.xlabel('Iterations', fontsize=15)\n",
    "plt.title('Training of model with different learning rates', fontsize=20)\n",
    "plt.legend(loc='upper center')\n",
    "plt.show()"
   ]
  },
  {
   "cell_type": "code",
   "execution_count": null,
   "id": "6706011c",
   "metadata": {},
   "outputs": [],
   "source": [
    "# Final Testing\n",
    "\n",
    "# References: \n",
    "# https://www.cs.toronto.edu/~kriz/cifar.html\n",
    "# CT5133 Deep Learning Sample Code by Prof. Michael Madden\n",
    "\n",
    "# This function is taken from the CIFAR website\n",
    "# Convert binary files to objects\n",
    "def unpickle(file):\n",
    "    import pickle\n",
    "    with open(file, 'rb') as fo:\n",
    "        dict = pickle.load(fo, encoding='bytes')\n",
    "    return dict\n",
    "\n",
    "# Load the image data batch \n",
    "def loadbatch(batchname):\n",
    "    folder = \"C:/Users/Admin/Downloads/cifar-10-python/cifar-10-batches-py\"\n",
    "    batch = unpickle(folder+\"/\"+batchname)\n",
    "    return batch\n",
    "    \n",
    "# Prepare the dataset to be passed to the model - green channel: 1024 values (32 * 32) pixels \n",
    "def ReadImagedata(BatchName):\n",
    "    # Load the data from required batch \n",
    "    batch = loadbatch(BatchName)\n",
    "\n",
    "    # Extract the features and labels\n",
    "    data = batch[b'data']\n",
    "    labels = np.array(batch[b'labels'])\n",
    "\n",
    "    # Reference: https://towardsdatascience.com/cifar-10-image-classification-in-tensorflow-5b501f7dc77c\n",
    "    # Reshape the features to single column of 1024 values (taking green channel)\n",
    "    reshaped = (data.reshape((len(data), 3, 1024)).transpose(1, 2, 0))[1].T\n",
    "\n",
    "    # Reference: https://stackoverflow.com/questions/59646288/is-there-a-way-to-extract-just-a-needed-class-from-cifar-10-training-dataset\n",
    "    # Extract the images of BIRD and DOG class only \n",
    "    bird_dog = ((labels == 2) | (labels == 8)).reshape(reshaped.shape[0])\n",
    "    X = reshaped[bird_dog]\n",
    "    y = labels[bird_dog]\n",
    "    # Change the labels of bird and dog (2 and 8) to binary (0 and 1) respectively\n",
    "    y = np.array([0 if label == 2 else 1 for label in y])\n",
    "    \n",
    "    # Reference: https://www.geeksforgeeks.org/python-extract-numbers-from-string/\n",
    "    \n",
    "    if 'test' not in BatchName:\n",
    "        print(\"Batch Number = %d\" % [int(n) for n in BatchName.split('_') if n.isdigit()][0])\n",
    "    else:\n",
    "        print(\"Batch = Test Dataset\")\n",
    "    print (\"Batch size = %d\" % len(X))\n",
    "    print (\"Bird dataset = %d\" % len(y[y==0]))\n",
    "    print (\"Dog dataset = %d\" % len(y[y==1]))\n",
    "    return X, y\n",
    "\n",
    "def visualise(data, index):\n",
    "    picture = data[index]\n",
    "    # Initially, the data is a 1D array of 1024 pixels; reshape it to a 2D array of 32x32 pixels\n",
    "    picture.shape = (32,32) \n",
    "    plt.imshow(picture)\n",
    "    plt.show()\n",
    "# print(\"CIFAR-10 Training Dataset\\n\")\n",
    "# Load the data from training batch 4\n",
    "X, y = ReadImagedata('data_batch_4')"
   ]
  },
  {
   "cell_type": "code",
   "execution_count": 11,
   "id": "3779408f",
   "metadata": {},
   "outputs": [],
   "source": [
    "# References:\n",
    "# https://towardsdatascience.com/building-a-neural-network-with-a-single-hidden-layer-using-numpy-923be1180dbf\n",
    "# CT4101 Machine Learning Assignment 2 (Submission ID: 1462363337)\n",
    "# CT5133 Deep Learning Lecture Notes by Prof. Michael Madden\n",
    "\n",
    "# Build an Enhanced NN - add additional hidden layer\n",
    "class EnhancedNN:\n",
    "    \n",
    "    # Constructor function to intialize learning rate alpha, number of iterations and threshold\n",
    "    def __init__(self, alpha = 0.01, iterations = 1000, threshold = 1e-6): \n",
    "        self.alpha = alpha\n",
    "        self.iterations = iterations\n",
    "        self.threshold = threshold\n",
    "    \n",
    "    # Set weights and bias to a set of valid initial values\n",
    "    def Initialise_wb(self, X_features, l1_hidden_nodes, l2_hidden_nodes):\n",
    "        # Initialise small random values to the weights for nodes in first hidden layer\n",
    "        W1 = np.random.normal(0, 0.01, size = (X_features, l1_hidden_nodes))\n",
    "        # Initialise bias = 0 for nodes in first hidden layer\n",
    "        b1 = np.zeros((l1_hidden_nodes, 1))\n",
    "        # Initialise small random values to the weights for nodes in second hidden layer\n",
    "        W2 = np.random.normal(0, 0.01, size = (l2_hidden_nodes, l1_hidden_nodes))\n",
    "        # Initialise bias = 0 for nodes in second hidden layer\n",
    "        b2 = np.zeros((l2_hidden_nodes, 1))\n",
    "        # Initialise small random values to the weights for the node in the output layer\n",
    "        W3 = np.random.normal(0, 0.01, size = (1, l2_hidden_nodes))\n",
    "        # Initialise bias = 0 for the node in the output layer\n",
    "        b3 = 0\n",
    "        return W1, b1, W2, b2, W3, b3\n",
    "\n",
    "    # Activation function to find sigmoid values of input\n",
    "    def Sigmoid(self, z): \n",
    "        # Reference : https://stackoverflow.com/questions/47966728/how-to-fix-float-object-has-no-attribute-exp?noredirect=1&lq=1\n",
    "        z = np.array(z,dtype=float)\n",
    "        # Reference: https://www.programcreek.com/python/example/11224/numpy.seterr\n",
    "        self.err_status = np.geterr()\n",
    "        np.seterr(over = 'ignore')\n",
    "        return 1 / (1 + np.exp(-z))\n",
    "    \n",
    "    # Forward Propagation step\n",
    "    def ForwardPropagation(self, W1, b1, W2, b2, W3, b3, X):\n",
    "        # Compute A1 using the tanh activation function\n",
    "        A1 = np.tanh(np.dot(W1.T, X.T) + b1)\n",
    "        # Compute A2 and A3 (y_hat) using the sigmoid activation function\n",
    "        A2 = self.Sigmoid(np.dot(W2, A1) + b2)\n",
    "        A3 = self.Sigmoid(np.dot(W3, A2) + b3)\n",
    "        return A1, A2, A3\n",
    "        \n",
    "    # Backward Propagation step and compute the cost\n",
    "    def BackwardPropagation(self, A1, A2, A3, W3, W2, X, y):\n",
    "        n = X.shape[1]\n",
    "        \n",
    "        # Calculate the cost function (J) \n",
    "        J = - np.sum((y * np.log(A3)) + ((1 - y) * (np.log(1 - A3)))) / y.shape[0]\n",
    "        \n",
    "        # Backward propagation\n",
    "        dZ3 = A3 - y\n",
    "        dW3 = (1/n) * np.dot(dZ3, A2.T)\n",
    "        db3 = (1/n) * np.sum(dZ3, axis=1, keepdims=True)\n",
    "        \n",
    "        dZ2 = (A2 * (1 - A2)) * (np.dot(W3.T, dZ3))\n",
    "        dW2 = (1/n) * np.dot(dZ2, A1.T)\n",
    "        db2 = (1/n) * np.sum(dZ2, axis=1, keepdims=True)\n",
    "        \n",
    "        dZ1 = (1 - np.power(A1, 2)) * (np.dot(W2.T, dZ2))\n",
    "        dW1 = (1/n) * np.dot(dZ1, X)\n",
    "        db1 = (1/n) * np.sum(dZ1, axis=1, keepdims=True)\n",
    "        \n",
    "        return J, dW3, db3, dW2, db2, dW1, db1\n",
    "    \n",
    "    # Update the Weights and bias terms using batch gradient descent\n",
    "    def UpdateGD(self, W1, b1, W2, b2, W3, b3, X, y):\n",
    "        # Store the Cost function over all iterations\n",
    "        self.Cost = []\n",
    "\n",
    "        # Iterate through the maximum number of iterations\n",
    "        for i in range(self.iterations):            \n",
    "            # Forward Propagation\n",
    "            A1, A2, A3 = self.ForwardPropagation(W1, b1, W2, b2, W3, b3, X)\n",
    "            # Cost and Backward Propagation\n",
    "            J_curr, dW3, db3, dW2, db2, dW1, db1 = self.BackwardPropagation(A1, A2, A3, W3, W2, X, y)\n",
    "\n",
    "            # Update the weights and bias\n",
    "            W1 -= self.alpha * dW1.T\n",
    "            b1 -= self.alpha * db1\n",
    "            W2 -= self.alpha * dW2\n",
    "            b2 -= self.alpha * db2\n",
    "            W3 -= self.alpha * dW3\n",
    "            b3 -= self.alpha * db3\n",
    "            \n",
    "            # Record the costs\n",
    "            self.Cost.append(J_curr)\n",
    "            \n",
    "        return W1, b1, W2, b2, W3, b3\n",
    "    \n",
    "    # Train the model using the training data\n",
    "    def Train(self, X, y, l1_hidden_nodes = 1, l2_hidden_nodes = 1): \n",
    "        self.l1_hidden_nodes = l1_hidden_nodes\n",
    "        self.l2_hidden_nodes = l2_hidden_nodes\n",
    "        W1, b1, W2, b2, W3, b3 = self.Initialise_wb(X.shape[1], l1_hidden_nodes, l2_hidden_nodes)\n",
    "        self.W1, self.b1, self.W2, self.b2, self.W3, self.b3 = self.UpdateGD(W1, b1, W2, b2, W3, b3, X, y)\n",
    "        return self\n",
    "\n",
    "    # Predict the values of the test data\n",
    "    def Predict(self, X): \n",
    "        A1, A2, predictions = self.ForwardPropagation(self.W1, self.b1, self.W2, self.b2, self.W3, self.b3, X)\n",
    "        y_prediction = [1 if p > 0.5 else 0 for p in np.squeeze(predictions)]\n",
    "        return y_prediction\n",
    "\n",
    "    # Score function to determine the accuracy of the model\n",
    "    def Score(self, X, y): \n",
    "        size = len(y)        \n",
    "        # Number of correct matches divided by total number of inputs\n",
    "        return sum(self.Predict(X) == y) / size \n",
    "    \n",
    "    # Utility function to plot the Cost of the model\n",
    "    def PlotCostFunction(self):\n",
    "        plt.plot(range(len(self.Cost)), self.Cost, 'blue')\n",
    "        plt.title(\" Cost Function of Enhanced Neural Network Model\")\n",
    "        plt.xlabel(\"Iterations\")\n",
    "        plt.ylabel(\"Cost\")\n",
    "        plt.show()\n",
    "        \n",
    "# Utility functions to train and test the Enhanced Neural Network Model and output formatted results\n",
    "def EnhancedNNResults(Title, Model, X, y, l1_hidden_nodes = 1, l2_hidden_nodes = 1):\n",
    "    # List to store the accuracy scores\n",
    "    Scores = list()\n",
    "\n",
    "    print(Title,\"\\n\")\n",
    "    for i in range(10):\n",
    "        # Reference: https://algotrading101.com/learn/train-test-split/\n",
    "        # Split the dataset into Train-Validation-Test data (70-15-15)\n",
    "        X_train, X_test, y_train, y_test = train_test_split(X, y, train_size = 0.85, shuffle = True, random_state = 105)\n",
    "        X_train, X_val, y_train, y_val = train_test_split(X_train, y_train, train_size = 0.824, shuffle = True, random_state = 105)\n",
    "\n",
    "        # Train the model using training data and Predict using test data\n",
    "        Model.Train(X_train, y_train, l1_hidden_nodes, l2_hidden_nodes)       \n",
    "        Prediction = Model.Predict(X_test)\n",
    "        Score = Model.Score(X_test, y_test)\n",
    "        print(\"Accuracy %d = %.2f\" % (i + 1, Score))\n",
    "        Scores.append(Score)\n",
    "\n",
    "    # Average accuracy score over the 10 runs\n",
    "    print(\"\\nMean Accuracy = %.2f\" % np.mean(Scores))\n",
    "    # Plot the Cost vs Iterations\n",
    "    Model.PlotCostFunction()\n",
    "    print(\"\\nMODEL DETAILS:\")\n",
    "    print(\"Maximum Iterations = %d\" % Model.iterations)\n",
    "    print(\"Iterations Completed = %d\" % len(Model.Cost))\n",
    "    # Reference: https://stackoverflow.com/questions/2440692/formatting-floats-without-trailing-zeros\n",
    "    print(\"Learning Rate = %s\" % f'{Model.alpha:g}')\n",
    "    print(\"Nodes in Hidden Layer 1 = %d\" % Model.l1_hidden_nodes)\n",
    "    print(\"Nodes in Hidden Layer 2 = %d\" % Model.l2_hidden_nodes)"
   ]
  },
  {
   "cell_type": "code",
   "execution_count": null,
   "id": "f83d35c2",
   "metadata": {},
   "outputs": [
    {
     "name": "stdout",
     "output_type": "stream",
     "text": [
      "Batch Number = 4\n",
      "Batch size = 2065\n",
      "Bird dataset = 1041\n",
      "Ship dataset = 1024\n",
      "\n",
      "CIFAR-10 Dataset \n",
      "\n"
     ]
    }
   ],
   "source": [
    "# Load the data from training batch 4\n",
    "X, y = ReadImagedata('data_batch_4')\n",
    "\n",
    "# Train and test the CIFAR-10 dataset using Enhanced NN model\n",
    "EnhancedNNResults('\\nCIFAR-10 Dataset', EnhancedNN(iterations = 8500), X, y, 15, 15)"
   ]
  },
  {
   "cell_type": "code",
   "execution_count": null,
   "id": "899cec3b",
   "metadata": {},
   "outputs": [],
   "source": [
    "# Final Testing\n",
    "print(\"CIFAR-10 Training Dataset\\n\")\n",
    "# Load the data from training batch 4\n",
    "X, y = ReadImagedata('data_batch_4')\n",
    "\n",
    "# Train the model with the entire training data (without splitting into Train-Validation-Test)\n",
    "Model = EnhancedNN(iterations = 8500)\n",
    "Model.Train(X, y, 15, 15) \n",
    "\n",
    "# Plot the Cost vs Iterations\n",
    "Model.PlotCostFunction()\n",
    "print(\"\\nMODEL DETAILS:\")\n",
    "print(\"Maximum Iterations = %d\" % Model.iterations)\n",
    "print(\"Iterations Completed = %d\" % len(Model.Cost))\n",
    "# Reference: https://stackoverflow.com/questions/2440692/formatting-floats-without-trailing-zeros\n",
    "print(\"Learning Rate = %s\" % f'{Model.alpha:g}')\n",
    "print(\"Nodes in Hidden Layer 1 = %d\" % Model.l1_hidden_nodes)\n",
    "print(\"Nodes in Hidden Layer 2 = %d\" % Model.l2_hidden_nodes)\n",
    "\n",
    "print(\"\\nCIFAR-10 Testing Dataset\\n\")\n",
    "# Load the data from test batch\n",
    "X_test, y_test = ReadImagedata('test_batch')\n",
    "\n",
    "# Predict the test data (unknown cases)\n",
    "Prediction = Model.Predict(X_test)\n",
    "Score = Model.Score(X_test, y_test)\n",
    "print(\"Accuracy on test data = %.2f\" % Score)"
   ]
  },
  {
   "cell_type": "code",
   "execution_count": null,
   "id": "21641a8a",
   "metadata": {},
   "outputs": [],
   "source": []
  }
 ],
 "metadata": {
  "kernelspec": {
   "display_name": "Python 3",
   "language": "python",
   "name": "python3"
  },
  "language_info": {
   "codemirror_mode": {
    "name": "ipython",
    "version": 3
   },
   "file_extension": ".py",
   "mimetype": "text/x-python",
   "name": "python",
   "nbconvert_exporter": "python",
   "pygments_lexer": "ipython3",
   "version": "3.8.8"
  }
 },
 "nbformat": 4,
 "nbformat_minor": 5
}
